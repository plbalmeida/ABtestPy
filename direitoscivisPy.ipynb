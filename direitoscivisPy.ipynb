{
 "cells": [
  {
   "cell_type": "markdown",
   "metadata": {},
   "source": [
    "# Projeto: Teste A/B - Votação da Lei dos Direitos Civis de 1964\n",
    "A Lei dos Direitos Civis de 1964 (<https://pt.wikipedia.org/wiki/Lei_dos_Direitos_Civis_de_1964>) foi uma das leis mais importantes já aprovadas nos EUA. Excluindo os votos \"presentes\" e \"abstenção\", 153 democratas da câmara e 136 republicanos votaram \"sim\". No entanto, 91 democratas e 35 republicanos votaram contra. A afiliação do partido fez diferença na votação?\n",
    "\n",
    "Para responder essa pergunta, avaliarei a hipótese de que o partido do membro da câmara não teve influência no seu voto. Usarei a fração de democratas que votaram a favor como estatística de teste (em 1964, foram os democratas que foram menos progressistas em questões de direitos civis). Para fazer isso, permutarei os rótulos partidários dos eleitores da câmara e depois os dividirei arbitrariamente em \"Democratas\" e \"Republicanos\", e depois calcularei a fração dos democratas que votaram \"sim\"."
   ]
  },
  {
   "cell_type": "code",
   "execution_count": 1,
   "metadata": {},
   "outputs": [],
   "source": [
    "# bibliotecas necessárias\n",
    "import numpy as np\n",
    "np.random.seed(seed=1)"
   ]
  },
  {
   "cell_type": "markdown",
   "metadata": {},
   "source": [
    "## Gerando amostra de permutação\n",
    "A amostragem por permutação é uma ótima maneira de simular a hipótese de que duas variáveis têm distribuições de probabilidade idênticas. Geralmente, essa é uma hipótese que se procura testar, portanto escreverei uma função para gerar uma amostra de permutação a partir de dois conjuntos de dados.\n",
    "\n",
    "Lembrando de que uma amostra de permutação de duas arrays, respectivamente com entradas n1 e n2, é construída concatenando as arrays, misturando o conteúdo da array concatenada, e em seguida tendo as primeiras entradas n1 como amostra de permutação da primeira array, e as últimas entradas n2 como a amostra de permutação da segunda array."
   ]
  },
  {
   "cell_type": "code",
   "execution_count": 2,
   "metadata": {},
   "outputs": [],
   "source": [
    "def permutation_sample(data1, data2):\n",
    "    \"\"\"Gerando uma amostra permutada de dois data sets.\"\"\"\n",
    "\n",
    "    # concatenando os data sets\n",
    "    data = np.concatenate((data1, data2))\n",
    "\n",
    "    # permutando a array concatenada\n",
    "    permuted_data = np.random.permutation(data)\n",
    "\n",
    "    # explodindo a array permutada em dois: perm_sample_1, perm_sample_2\n",
    "    perm_sample_1 = permuted_data[:len(data1)]\n",
    "    perm_sample_2 = permuted_data[len(data1):]\n",
    "\n",
    "    return perm_sample_1, perm_sample_2"
   ]
  },
  {
   "cell_type": "markdown",
   "metadata": {},
   "source": [
    "## Gerando réplicas de permutação\n",
    "Uma réplica de permutação é um valor único de uma estatística calculada a partir de uma amostra de permutação.\n",
    "\n",
    "Algo importante sobre o argumento \"func\" dessa função, é que essa deve ser uma função que aceita duas matrizes como argumentos."
   ]
  },
  {
   "cell_type": "code",
   "execution_count": 3,
   "metadata": {},
   "outputs": [],
   "source": [
    "def draw_perm_reps(data_1, data_2, func, size=1):\n",
    "    \"\"\"Gerando múltiplas réplicas de permutação.\"\"\"\n",
    "\n",
    "    # array de réplicas vazias: perm_replicates\n",
    "    perm_replicates = np.empty(size)\n",
    "\n",
    "    for i in range(size):\n",
    "        # amostra de permutação\n",
    "        perm_sample_1, perm_sample_2 = permutation_sample(data_1, data_2)\n",
    "\n",
    "        # teste estatístico\n",
    "        perm_replicates[i] = func(perm_sample_1, perm_sample_2)\n",
    "\n",
    "    return perm_replicates"
   ]
  },
  {
   "cell_type": "markdown",
   "metadata": {},
   "source": [
    "## Gerando as arrays\n",
    "Construindo arrays booleanas, \"dems\" e \"reps\", que contenham os votos dos respectivos partidos, por exemplo \"dems\" tem 153 entradas verdadeiras e 91 entradas falsas."
   ]
  },
  {
   "cell_type": "code",
   "execution_count": 4,
   "metadata": {},
   "outputs": [],
   "source": [
    "# arrays com os dados: dems, reps\n",
    "dems = np.array([True] * 153 + [False] * 91)\n",
    "reps = np.array([True] * 136 + [False] * 35)"
   ]
  },
  {
   "cell_type": "markdown",
   "metadata": {},
   "source": [
    "## Democratas que votaram \"sim\" e que votaram contra :(\n",
    "Função, frac_yea_dems(dems, reps), que retorna a fração dos democratas que votaram sim. A primeira entrada é uma array de booleanos. Duas entradas são necessárias para usar a função draw_perm_reps(), mas a segunda não é usada."
   ]
  },
  {
   "cell_type": "code",
   "execution_count": 5,
   "metadata": {},
   "outputs": [],
   "source": [
    "def frac_yea_dems(dems, reps):\n",
    "    \"\"\"Computando a fração dos democratas que votaram \"sim\".\"\"\"\n",
    "    frac = np.sum(dems) / len(dems)\n",
    "    return frac"
   ]
  },
  {
   "cell_type": "code",
   "execution_count": 6,
   "metadata": {},
   "outputs": [
    {
     "name": "stdout",
     "output_type": "stream",
     "text": [
      "p-value = 0.0003\n"
     ]
    }
   ],
   "source": [
    "# gerando permutações dos democratas que votaram sim: perm_replicates\n",
    "perm_replicates = draw_perm_reps(dems, reps, frac_yea_dems, 10000)\n",
    "\n",
    "# p-valor\n",
    "p = np.sum(perm_replicates <= 153/244) / len(perm_replicates)\n",
    "print('p-value =', p)"
   ]
  },
  {
   "cell_type": "markdown",
   "metadata": {},
   "source": [
    "Esse p-valor evidencia que o partido teve influência na votação. É importante ressaltar que o Sul tinha uma fração maior de representantes democratas e consequentemente também um viés mais racista."
   ]
  }
 ],
 "metadata": {
  "kernelspec": {
   "display_name": "Python 3",
   "language": "python",
   "name": "python3"
  },
  "language_info": {
   "codemirror_mode": {
    "name": "ipython",
    "version": 3
   },
   "file_extension": ".py",
   "mimetype": "text/x-python",
   "name": "python",
   "nbconvert_exporter": "python",
   "pygments_lexer": "ipython3",
   "version": "3.7.3"
  }
 },
 "nbformat": 4,
 "nbformat_minor": 2
}
